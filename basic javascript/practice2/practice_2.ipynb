{
 "cells": [
  {
   "cell_type": "markdown",
   "metadata": {},
   "source": [
    "## JS 기본 문법 문제 \n",
    "\n",
    "1. 아래 요구사항에 맞게 skeleton_1.js 파일을 수정하여 아래 이미지와 같이 출력하도록 수정하세요.\n",
    "\n",
    "- 변수 name 의 값에 새로운 값을 재 할당 할 수 있도록 변수 선언 방식을 변경하시오.\n",
    "- 조건문 name이 '김철수', age가 30일때 작동 하도록 비교 연산자와 일치 연산자를 수정하시오.\n",
    "- if 문이 정상 작동 할 수 있도록 수정하시오.\n",
    "- if 문의 조건이 true라면, string interpolation을 활용하여 김철수의 나이는 30살 입니다.가 출력되도록 수정하시오.\n",
    "- if 문 안에서 작성한 new_age 변수를 찾을 수 없다.\n",
    "    - 변수 선언과 값 할당 방식은 유지하되, 적절한 위치에 올 수 있도록 수정하시오.\n",
    "    - 변수 선언 위치를 바꾸거나, console.log 호출 위치를 바꾸거나 자유롭게 구성한다.\n",
    "\n",
    "- 출력화면  \n",
    "    <img src=\"images/image1.jpg\" width=\"60%\" height=\"10%\"/>"
   ]
  },
  {
   "cell_type": "markdown",
   "metadata": {},
   "source": [
    "2. skeleton_2.js 의 주석에 적혀있는 요구사항대로 코드를 작성하고, 아래 이미지와 같이 출력되도록 코드를 작성하세요.\n",
    "\n",
    "- 출력화면  \n",
    "    <img src=\"images/image2.jpg\" width=\"30%\" height=\"10%\"/>"
   ]
  },
  {
   "cell_type": "markdown",
   "metadata": {},
   "source": [
    "3. skeleton_3.js 에 아래 조건에 따라 코드를 작성하고, 이미지와 같이 출력하도록 하세요.\n",
    "- for .. of 문을 사용하여 아래 코드를 작성하시오.\n",
    "    - 주어진 배열 scores의 길이를 계산하여 length 변수에 할당하고, 출력하시오.\n",
    "    - 주어진 배열 scores가 가진 요소들의 총 합을 계산하여 출력하시오.\n",
    "    - scores가 가진 요소들의 평균 값을 출력하시오.\n",
    "- 위에서 구한 scores 배열의 길이 length를 활용하여 while문을 작성하시오.\n",
    "    - scores 배열의 요소들을 역순으로 출력하시오.\n",
    "\n",
    "- 출력 화면  \n",
    "    <img src=\"images/image3.jpg\" width=\"30%\" height=\"10%\"/>\n"
   ]
  },
  {
   "cell_type": "markdown",
   "metadata": {},
   "source": [
    "4. skeleton_4.js 에 아래 조건에 따라 코드를 작성하고, 이미지와 같이 출력하도록 하세요.\n",
    "\n",
    "- 길이가 동일한 두 배열 roles와 names가 주어진다.\n",
    "- 주어진 배열 roles 혹은 names의 길이를 length 변수에 담기위해 for .. of 문을 사용하는 코드를 작성한다.\n",
    "- 전체 길이를 담은 length를 활용하여 배열을 index 순으로 순회하는 코드를 작성한다.\n",
    "- 주어진 역할 (role)에 따라 각각 다른 내용을 출력하도록 한다.\n",
    "    - 주어진 역할이 '주연'인 경우,\n",
    "        - 같은 인덱스의 이름을 아래와 같이 출력한다.\n",
    "        - 출력 예) 주연 : 김씨 님 반갑습니다!\n",
    "    - 주어진 역할이 '조연'인 경우,\n",
    "        - 같은 인덱스의 이름을 아래와 같이 출력한다.\n",
    "        - 출력 예) 이씨 님 환영합니다!\n",
    "    - 주어진 역할이 '우정'인 경우,\n",
    "\t\t    - 같은 인덱스의 이름을 아래와 같이 출력한다.\n",
    "\t\t    - 출력 예) 홍씨 님 와 주셔서 감사합니다!\n",
    "\n",
    "- 출력 화면  \n",
    "    <img src=\"images/image4.jpg\" width=\"30%\" height=\"10%\"/>"
   ]
  },
  {
   "cell_type": "markdown",
   "metadata": {},
   "source": [
    "위 문제를 다 푼 분들은 아래 프로그래머스 링크로 들어가서 꼭! javascript 언어로 알고리즘을 작성해보세요.\n",
    "https://school.programmers.co.kr/learn/challenges/beginner?order=acceptance_desc&page=1&languages=javascript"
   ]
  }
 ],
 "metadata": {
  "language_info": {
   "name": "python"
  }
 },
 "nbformat": 4,
 "nbformat_minor": 2
}
