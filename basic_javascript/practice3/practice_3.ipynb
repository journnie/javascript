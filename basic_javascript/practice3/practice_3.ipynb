{
 "cells": [
  {
   "cell_type": "markdown",
   "metadata": {},
   "source": [
    "## JS 기본 문법 문제 \n",
    "\n",
    "1. skeleton_1.js 주석에 있는 내용대로 코드를 작성하고, 아래 이미지와 같이 결과가 나오도록 구현하세요.\n",
    "\n",
    "- 출력화면  \n",
    "    <img src=\"images/image1.jpg\" width=\"30%\" height=\"10%\"/>"
   ]
  },
  {
   "cell_type": "markdown",
   "metadata": {},
   "source": [
    "2. skeleton_2.js 주석에 있는 내용대로 코드를 작성하고, 아래 이미지와 같이 결과가 나오도록 구현하세요.\n",
    "\n",
    "- 출력화면  \n",
    "    <img src=\"images/image2.jpg\" width=\"30%\" height=\"10%\"/>"
   ]
  },
  {
   "cell_type": "markdown",
   "metadata": {},
   "source": [
    "3. skeleton_3.js 주석에 있는 내용대로 코드를 작성하고, 아래 이미지와 같이 결과가 나오도록 구현하세요.\n",
    "\n",
    "- 출력화면  \n",
    "    <img src=\"images/image3.jpg\" width=\"50%\" height=\"10%\"/>"
   ]
  }
 ],
 "metadata": {
  "language_info": {
   "name": "python"
  }
 },
 "nbformat": 4,
 "nbformat_minor": 2
}
